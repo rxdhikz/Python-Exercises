{
 "cells": [
  {
   "cell_type": "markdown",
   "id": "e4786a34",
   "metadata": {},
   "source": [
    "Q8. An online retailer sells two products: widgets and gizmos. Each widget weighs 75 grams. Each gizmo weighs 112 grams. Write a program that reads the number of widgets and the number of gizmos in an order from the user. Then your program should compute and display the total weight of the order."
   ]
  },
  {
   "cell_type": "code",
   "execution_count": 1,
   "id": "6aff0527",
   "metadata": {},
   "outputs": [
    {
     "name": "stdout",
     "output_type": "stream",
     "text": [
      "--------------------------------------------------------------------------------------------------------------------\n",
      "Counting Widgets and Gizmos\n",
      "--------------------------------------------------------------------------------------------------------------------\n",
      "Enter the no.of widgets you want to order: 2\n",
      "Enter the no.of gizmos you want to order: 2\n",
      "--------------------------------------------------------------------------------------------------------------------\n",
      "The total weight of your order is 374\n",
      "--------------------------------------------------------------------------------------------------------------------\n"
     ]
    }
   ],
   "source": [
    "print(f\"--------------------------------------------------------------------------------------------------------------------\")\n",
    "print(f\"Counting Widgets and Gizmos\") #printing this statement\n",
    "print(f\"--------------------------------------------------------------------------------------------------------------------\")\n",
    "#asking the user to enter the number of widgets they want to order\n",
    "widgets = int(input(\"Enter the no.of widgets you want to order: \"))\n",
    "#asking the user to enter the number of gizmos they want to order\n",
    "gizmo = int(input(\"Enter the no.of gizmos you want to order: \"))\n",
    "wt_of_each_widget = 75 #initialising the weight of each widget\n",
    "wt_of_each_gizmo = 112 #initialising the weight of each gizmo\n",
    "total_widget_wt = widgets*wt_of_each_widget #calculating the total weight of all the widgets\n",
    "total_gizmo_wt = gizmo*wt_of_each_gizmo #calculating the total weight of all the gizmos\n",
    "total_wt = int(total_widget_wt)+int(total_gizmo_wt) #calculating the total weight of the two products\n",
    "print(f\"--------------------------------------------------------------------------------------------------------------------\")\n",
    "print(f\"The total weight of your order is\",total_wt) #printing the total weight of the products\n",
    "print(f\"--------------------------------------------------------------------------------------------------------------------\")"
   ]
  }
 ],
 "metadata": {
  "kernelspec": {
   "display_name": "Python 3 (ipykernel)",
   "language": "python",
   "name": "python3"
  },
  "language_info": {
   "codemirror_mode": {
    "name": "ipython",
    "version": 3
   },
   "file_extension": ".py",
   "mimetype": "text/x-python",
   "name": "python",
   "nbconvert_exporter": "python",
   "pygments_lexer": "ipython3",
   "version": "3.11.2"
  }
 },
 "nbformat": 4,
 "nbformat_minor": 5
}
