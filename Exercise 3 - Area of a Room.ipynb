{
 "cells": [
  {
   "cell_type": "markdown",
   "id": "ff391629",
   "metadata": {},
   "source": [
    "Q3. Write a program that asks the user to enter the width and length of a room. Once the values have been read, your program should compute and display the area of the room. The length and the width will be entered as floating point numbers. Include units in your prompt and output message; either feet or meters, depending on which unit you are more comfortable working with."
   ]
  },
  {
   "cell_type": "code",
   "execution_count": 1,
   "id": "3637dda5",
   "metadata": {
    "scrolled": true
   },
   "outputs": [
    {
     "name": "stdout",
     "output_type": "stream",
     "text": [
      "--------------------------------------------------------------------------------------------------------------------\n",
      "Area of Room Calculator\n",
      "--------------------------------------------------------------------------------------------------------------------\n",
      "Enter the length of the room in metres(m): 6.3\n",
      "Enter the width of the room in metres(m): 3.6\n",
      "--------------------------------------------------------------------------------------------------------------------\n",
      "Area of the room in metres is 22.68.\n",
      "--------------------------------------------------------------------------------------------------------------------\n"
     ]
    }
   ],
   "source": [
    "print(f\"--------------------------------------------------------------------------------------------------------------------\")\n",
    "print(f\"Area of Room Calculator\") #printing this statement\n",
    "print(f\"--------------------------------------------------------------------------------------------------------------------\")\n",
    "#asking the user to enter a value for the length of the room\n",
    "length = float(input(\"Enter the length of the room in metres(m): \"))\n",
    "#asking the user to enter a value for the width of the room\n",
    "width = float(input(\"Enter the width of the room in metres(m): \"))\n",
    "area_of_room = length*width #calculating the area of the room\n",
    "print(f\"--------------------------------------------------------------------------------------------------------------------\")\n",
    "print(f\"Area of the room in metres is {area_of_room}.\") #printing the area of the room\n",
    "print(f\"--------------------------------------------------------------------------------------------------------------------\")"
   ]
  }
 ],
 "metadata": {
  "kernelspec": {
   "display_name": "Python 3 (ipykernel)",
   "language": "python",
   "name": "python3"
  },
  "language_info": {
   "codemirror_mode": {
    "name": "ipython",
    "version": 3
   },
   "file_extension": ".py",
   "mimetype": "text/x-python",
   "name": "python",
   "nbconvert_exporter": "python",
   "pygments_lexer": "ipython3",
   "version": "3.11.2"
  }
 },
 "nbformat": 4,
 "nbformat_minor": 5
}
