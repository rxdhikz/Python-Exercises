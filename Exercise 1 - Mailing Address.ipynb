{
 "cells": [
  {
   "cell_type": "markdown",
   "id": "fd3bbc6b",
   "metadata": {},
   "source": [
    "Q1. Create a program that displays your name and complete mailing address formatted in\n",
    "the manner that you would usually see it on the outside of an envelope. Your program\n",
    "does not need to read any input from the user."
   ]
  },
  {
   "cell_type": "code",
   "execution_count": 1,
   "id": "9c447229",
   "metadata": {},
   "outputs": [],
   "source": [
    "name = 'Radhika' #initialisng a name\n",
    "senders_address = '14 Theatre Street, \\nMoon City, \\nRD 1456 \\nChennai - 98' #initialising the sender's address\n",
    "receivers_address = 'To, \\nMiss.Rads \\n14/5, The Main Street, AK 64 ,\\nTiruvallur -56' #initialising the receiver's address"
   ]
  },
  {
   "cell_type": "code",
   "execution_count": 2,
   "id": "6bbeaea1",
   "metadata": {},
   "outputs": [
    {
     "name": "stdout",
     "output_type": "stream",
     "text": [
      "--------------------------------------------------------------------------------------------------------------------\n",
      "Mailing Addresses\n",
      "--------------------------------------------------------------------------------------------------------------------\n",
      "From Radhika\n",
      "--------------------------------------------------------------------------------------------------------------------\n",
      "14 Theatre Street, \n",
      "Moon City, \n",
      "RD 1456 \n",
      "Chennai - 98\n",
      "--------------------------------------------------------------------------------------------------------------------\n",
      "To, \n",
      "Miss.Rads \n",
      "14/5, The Main Street, AK 64 ,\n",
      "Tiruvallur -56\n",
      "--------------------------------------------------------------------------------------------------------------------\n"
     ]
    }
   ],
   "source": [
    "print(f\"--------------------------------------------------------------------------------------------------------------------\")\n",
    "print(f\"Mailing Addresses\") #printing this statement\n",
    "print(f\"--------------------------------------------------------------------------------------------------------------------\")\n",
    "print(f\"From {name}\") #printing the name of the sender\n",
    "print(f\"--------------------------------------------------------------------------------------------------------------------\")\n",
    "print(senders_address) #printing the sender's address\n",
    "print(f\"--------------------------------------------------------------------------------------------------------------------\")\n",
    "print(receivers_address) #printing the receiver's address\n",
    "print(f\"--------------------------------------------------------------------------------------------------------------------\")"
   ]
  }
 ],
 "metadata": {
  "kernelspec": {
   "display_name": "Python 3 (ipykernel)",
   "language": "python",
   "name": "python3"
  },
  "language_info": {
   "codemirror_mode": {
    "name": "ipython",
    "version": 3
   },
   "file_extension": ".py",
   "mimetype": "text/x-python",
   "name": "python",
   "nbconvert_exporter": "python",
   "pygments_lexer": "ipython3",
   "version": "3.11.2"
  }
 },
 "nbformat": 4,
 "nbformat_minor": 5
}
