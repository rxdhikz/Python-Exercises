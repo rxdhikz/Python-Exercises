{
 "cells": [
  {
   "cell_type": "markdown",
   "id": "4b87f09c",
   "metadata": {},
   "source": [
    "Q4. Create a program that reads the length and width of a farmer’s field from the user in feet. Display the area of the field in acres."
   ]
  },
  {
   "cell_type": "code",
   "execution_count": 1,
   "id": "6b09487b",
   "metadata": {},
   "outputs": [
    {
     "name": "stdout",
     "output_type": "stream",
     "text": [
      "--------------------------------------------------------------------------------------------------------------------\n",
      "Area of a Field Calculator\n",
      "--------------------------------------------------------------------------------------------------------------------\n",
      "Enter the length of the field in feet(ft): 12.8\n",
      "Enter the width of the field in feet(ft): 13.6\n",
      "--------------------------------------------------------------------------------------------------------------------\n",
      "Area of the field in acres is: 7582924.800000001 acres\n",
      "--------------------------------------------------------------------------------------------------------------------\n"
     ]
    }
   ],
   "source": [
    "print(f\"--------------------------------------------------------------------------------------------------------------------\")\n",
    "print(f\"Area of a Field Calculator\") #printing this statement\n",
    "print(f\"--------------------------------------------------------------------------------------------------------------------\")\n",
    "#asking the user to enter a value for the length of the field\n",
    "length = float(input(\"Enter the length of the field in feet(ft): \"))\n",
    "#asking the user to enter a value for the width of the field\n",
    "width = float(input(\"Enter the width of the field in feet(ft): \"))\n",
    "area_of_field = length*width #calculating the are of the field\n",
    "a_feet = float(43560) #initialising the value for a feet\n",
    "#calculating the area of the field in acres by multiplying the area of the field with the value for a feet\n",
    "area_in_acres = area_of_field*a_feet\n",
    "print(f\"--------------------------------------------------------------------------------------------------------------------\")\n",
    "print(f\"Area of the field in acres is:\",area_in_acres,\"acres\") #printing the area of the field in acres\n",
    "print(f\"--------------------------------------------------------------------------------------------------------------------\")"
   ]
  }
 ],
 "metadata": {
  "kernelspec": {
   "display_name": "Python 3 (ipykernel)",
   "language": "python",
   "name": "python3"
  },
  "language_info": {
   "codemirror_mode": {
    "name": "ipython",
    "version": 3
   },
   "file_extension": ".py",
   "mimetype": "text/x-python",
   "name": "python",
   "nbconvert_exporter": "python",
   "pygments_lexer": "ipython3",
   "version": "3.11.2"
  }
 },
 "nbformat": 4,
 "nbformat_minor": 5
}
