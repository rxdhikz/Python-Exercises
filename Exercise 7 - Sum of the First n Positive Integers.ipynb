{
 "cells": [
  {
   "cell_type": "markdown",
   "id": "8a869797",
   "metadata": {},
   "source": [
    "Q7. Write a program that reads a positive integer, n, from the user and then displays the sum of all of the integers from 1 to n. The sum of the first n positive integers can be computed using the formula:\n",
    "sum = (n)(n+1)/2"
   ]
  },
  {
   "cell_type": "code",
   "execution_count": 1,
   "id": "efca16ae",
   "metadata": {},
   "outputs": [
    {
     "name": "stdout",
     "output_type": "stream",
     "text": [
      "--------------------------------------------------------------------------------------------------------------------\n",
      "Sum of positive integers\n",
      "--------------------------------------------------------------------------------------------------------------------\n",
      "Enter a positive number:5\n",
      "--------------------------------------------------------------------------------------------------------------------\n",
      "The sum of all positive numbers from 1 to 5 is 15.0\n",
      "--------------------------------------------------------------------------------------------------------------------\n"
     ]
    }
   ],
   "source": [
    "print(f\"--------------------------------------------------------------------------------------------------------------------\")\n",
    "print(f\"Sum of positive integers\") #printing this statement\n",
    "print(f\"--------------------------------------------------------------------------------------------------------------------\")\n",
    "positive_num = int(input(\"Enter a positive number:\")) #asking the user to enter a positive number\n",
    "num_sum = 0 #initialising the sum of the numbers to be zero\n",
    "for i in range(positive_num): #using for loop, for the number within the range of the positive number entered by the user\n",
    "    num_sum = positive_num*(positive_num+1)/2 #calculating the some of all the positive numbers within the range\n",
    "print(f\"--------------------------------------------------------------------------------------------------------------------\")\n",
    "#printing the sum of all the positive numbers in that range\n",
    "print(f\"The sum of all positive numbers from 1 to\",positive_num,\"is\",num_sum)\n",
    "print(f\"--------------------------------------------------------------------------------------------------------------------\")"
   ]
  }
 ],
 "metadata": {
  "kernelspec": {
   "display_name": "Python 3 (ipykernel)",
   "language": "python",
   "name": "python3"
  },
  "language_info": {
   "codemirror_mode": {
    "name": "ipython",
    "version": 3
   },
   "file_extension": ".py",
   "mimetype": "text/x-python",
   "name": "python",
   "nbconvert_exporter": "python",
   "pygments_lexer": "ipython3",
   "version": "3.11.2"
  }
 },
 "nbformat": 4,
 "nbformat_minor": 5
}
