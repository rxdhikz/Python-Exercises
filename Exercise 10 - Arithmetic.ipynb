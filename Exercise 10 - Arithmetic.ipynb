{
 "cells": [
  {
   "cell_type": "markdown",
   "id": "1061620f",
   "metadata": {},
   "source": [
    "Q10. Create a program that reads two integers, a and b, from the user. Your program should compute and display:\n",
    "The sum of a and b\n",
    "The difference when b is subtracted from a\n",
    "The product of a and b\n",
    "The quotient when a is divided by b\n",
    "The remainder when a is divided by b\n",
    "The result of log10 a\n",
    "The result of a^b"
   ]
  },
  {
   "cell_type": "code",
   "execution_count": 1,
   "id": "ca0d88a1",
   "metadata": {},
   "outputs": [
    {
     "name": "stdout",
     "output_type": "stream",
     "text": [
      "--------------------------------------------------------------------------------------------------------------------\n",
      "Arothmetic Operators\n",
      "Enter a number: 2\n",
      "Enter a number: 3\n",
      "--------------------------------------------------------------------------------------------------------------------\n",
      "Sum of the 2 numbers are 5.\n",
      "--------------------------------------------------------------------------------------------------------------------\n",
      "The difference of the 2 numbers when 3 is subtracted from 2 is -1.\n",
      "--------------------------------------------------------------------------------------------------------------------\n",
      "Product of the 2 numbers are 6.\n",
      "--------------------------------------------------------------------------------------------------------------------\n",
      "The quotient of the 2 numbers when 2 is divided by 3 is 0.6666666666666666.\n",
      "--------------------------------------------------------------------------------------------------------------------\n",
      "The remainder when 2 is divided by 3 is -1.0.\n",
      "--------------------------------------------------------------------------------------------------------------------\n",
      "The log10 value of a is 0.3010299956639812.\n",
      "--------------------------------------------------------------------------------------------------------------------\n",
      "The value of 2 raised to the power of 3 is 8.0\n",
      "--------------------------------------------------------------------------------------------------------------------\n",
      "Thank You!\n",
      "--------------------------------------------------------------------------------------------------------------------\n"
     ]
    }
   ],
   "source": [
    "import math #importing the math module\n",
    "print(f\"--------------------------------------------------------------------------------------------------------------------\")\n",
    "print(f\"Arothmetic Operators\") #printing this statement\n",
    "a = int(input(\"Enter a number: \")) #asking the user to enter a number\n",
    "b = int(input(\"Enter a number: \")) #asking the user to enter a number\n",
    "print(f\"--------------------------------------------------------------------------------------------------------------------\")\n",
    "s = a+b #adding the two numbers\n",
    "print(f\"Sum of the 2 numbers are {s}.\") #printing the sum of the two numbers\n",
    "print(f\"--------------------------------------------------------------------------------------------------------------------\")\n",
    "diff = a-b #subtracting the second number from the first\n",
    "#printing the difference of the two numbers\n",
    "print(f\"The difference of the 2 numbers when {b} is subtracted from {a} is {diff}.\")\n",
    "print(f\"--------------------------------------------------------------------------------------------------------------------\")\n",
    "lisht = []\n",
    "lisht.append(a)\n",
    "lisht.append(b)\n",
    "prod = math.prod(lisht) #calculating the product of the two numbers\n",
    "print(f\"Product of the 2 numbers are {prod}.\") #printing the product of the two numbers\n",
    "print(f\"--------------------------------------------------------------------------------------------------------------------\")\n",
    "quotient = a/b #calculating the quotient when a is divided by b\n",
    "print(f\"The quotient of the 2 numbers when {a} is divided by {b} is {quotient}.\") #printing that quotient\n",
    "print(f\"--------------------------------------------------------------------------------------------------------------------\")\n",
    "rem = math.remainder(a,b) #calculating the remainder when a is divided by b\n",
    "print(f\"The remainder when {a} is divided by {b} is {rem}.\") #printing that remainder\n",
    "print(f\"--------------------------------------------------------------------------------------------------------------------\")\n",
    "log_a = math.log10(a) #calculating the log10 value of a\n",
    "print(f\"The log10 value of a is {log_a}.\") #printing that value\n",
    "print(f\"--------------------------------------------------------------------------------------------------------------------\")\n",
    "pwr = math.pow(a,b) #calculating the value when a is raised to the power b\n",
    "print(f\"The value of\",a,\"raised to the power of\",b,\"is\",pwr) #printing that value\n",
    "print(f\"--------------------------------------------------------------------------------------------------------------------\")\n",
    "print(f\"Thank You!\") #printing this statement\n",
    "print(f\"--------------------------------------------------------------------------------------------------------------------\")"
   ]
  }
 ],
 "metadata": {
  "kernelspec": {
   "display_name": "Python 3 (ipykernel)",
   "language": "python",
   "name": "python3"
  },
  "language_info": {
   "codemirror_mode": {
    "name": "ipython",
    "version": 3
   },
   "file_extension": ".py",
   "mimetype": "text/x-python",
   "name": "python",
   "nbconvert_exporter": "python",
   "pygments_lexer": "ipython3",
   "version": "3.11.2"
  }
 },
 "nbformat": 4,
 "nbformat_minor": 5
}
