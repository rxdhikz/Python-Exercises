{
 "cells": [
  {
   "cell_type": "markdown",
   "id": "01f30365",
   "metadata": {},
   "source": [
    "Q2. Write a program that asks the user to enter his or her name. The program should\n",
    "respond with a message that says hello to the user, using his or her name."
   ]
  },
  {
   "cell_type": "code",
   "execution_count": 1,
   "id": "3f1fa37e",
   "metadata": {},
   "outputs": [
    {
     "name": "stdout",
     "output_type": "stream",
     "text": [
      "--------------------------------------------------------------------------------------------------------------------\n",
      "Please enter your name: Radhika\n",
      "Hello Radhika\n",
      "--------------------------------------------------------------------------------------------------------------------\n"
     ]
    }
   ],
   "source": [
    "print(f\"--------------------------------------------------------------------------------------------------------------------\")\n",
    "user_name = input(\"Please enter your name: \") #asking the user to enter their name\n",
    "print(f\"Hello {user_name}\") #greeting the user using the print statement\n",
    "print(f\"--------------------------------------------------------------------------------------------------------------------\")"
   ]
  }
 ],
 "metadata": {
  "kernelspec": {
   "display_name": "Python 3 (ipykernel)",
   "language": "python",
   "name": "python3"
  },
  "language_info": {
   "codemirror_mode": {
    "name": "ipython",
    "version": 3
   },
   "file_extension": ".py",
   "mimetype": "text/x-python",
   "name": "python",
   "nbconvert_exporter": "python",
   "pygments_lexer": "ipython3",
   "version": "3.11.2"
  }
 },
 "nbformat": 4,
 "nbformat_minor": 5
}
